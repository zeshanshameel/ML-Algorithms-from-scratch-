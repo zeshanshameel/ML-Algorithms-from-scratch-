{
 "cells": [
  {
   "cell_type": "markdown",
   "metadata": {},
   "source": [
    "### Multiple Linear Regression from scratch "
   ]
  },
  {
   "cell_type": "markdown",
   "metadata": {},
   "source": [
    "### Problem Statement:\n",
    "Using cars.csv data create a algorithm to predict MPG value using ['Weight','Horsepower','Displacement'] as predictors from scratch"
   ]
  },
  {
   "cell_type": "code",
   "execution_count": 7,
   "metadata": {},
   "outputs": [],
   "source": [
    "#libraries\n",
    "import os\n",
    "import numpy as np\n",
    "import pandas as pd\n",
    "import statsmodels.api as sm\n",
    "\n",
    "#reading file\n",
    "os.chdir(r'C:\\Users\\shameel\\Desktop\\Praxis')\n",
    "cars = pd.read_csv(\"cars.csv\")\n",
    "#removing anomalies\n",
    "cars2 = cars.loc[(cars.MPG != 0), ]\n",
    "#assigning predictors and target\n",
    "predictors = cars2[['Weight','Horsepower','Displacement']]\n",
    "target = cars2[\"MPG\"]"
   ]
  },
  {
   "cell_type": "code",
   "execution_count": 3,
   "metadata": {},
   "outputs": [],
   "source": [
    "b = np.array(target)         "
   ]
  },
  {
   "cell_type": "code",
   "execution_count": 8,
   "metadata": {},
   "outputs": [
    {
     "data": {
      "text/plain": [
       "array([[1.000e+00, 3.504e+03, 1.300e+02, 3.070e+02],\n",
       "       [1.000e+00, 3.693e+03, 1.650e+02, 3.500e+02],\n",
       "       [1.000e+00, 3.436e+03, 1.500e+02, 3.180e+02],\n",
       "       ...,\n",
       "       [1.000e+00, 2.295e+03, 8.400e+01, 1.350e+02],\n",
       "       [1.000e+00, 2.625e+03, 7.900e+01, 1.200e+02],\n",
       "       [1.000e+00, 2.720e+03, 8.200e+01, 1.190e+02]])"
      ]
     },
     "execution_count": 8,
     "metadata": {},
     "output_type": "execute_result"
    }
   ],
   "source": [
    "# converting dataframe to array and adding a constant column in predictors\n",
    "predictors = sm.add_constant(predictors)        #adding constant column of 1 \n",
    "a = np.array(predictors)                         # assigning perdictors matrix\n",
    "a"
   ]
  },
  {
   "cell_type": "code",
   "execution_count": 2,
   "metadata": {},
   "outputs": [],
   "source": [
    "#the formula to find the regression parameter using matrix method\n",
    "# b = (xT*x)^-1*xTy"
   ]
  },
  {
   "cell_type": "code",
   "execution_count": 9,
   "metadata": {},
   "outputs": [],
   "source": [
    "first = np.matmul(np.transpose(a),a)              #finding multiplication predictors and transpose of predictors"
   ]
  },
  {
   "cell_type": "code",
   "execution_count": 10,
   "metadata": {},
   "outputs": [],
   "source": [
    "firstinv = np.linalg.inv(np.matmul(np.transpose(a),a))  #finding the inverse of first"
   ]
  },
  {
   "cell_type": "code",
   "execution_count": 11,
   "metadata": {},
   "outputs": [
    {
     "data": {
      "text/plain": [
       "array([[ 7.63198280e-02, -3.92722252e-05, -1.59794249e-04,\n",
       "         3.06524983e-04],\n",
       "       [-3.92722252e-05,  2.75897678e-08, -5.96109560e-08,\n",
       "        -1.88948153e-07],\n",
       "       [-1.59794249e-04, -5.96109560e-08,  6.60783367e-06,\n",
       "        -1.77352410e-06],\n",
       "       [ 3.06524983e-04, -1.88948153e-07, -1.77352410e-06,\n",
       "         2.26038568e-06]])"
      ]
     },
     "execution_count": 11,
     "metadata": {},
     "output_type": "execute_result"
    }
   ],
   "source": [
    "firstinv                                                "
   ]
  },
  {
   "cell_type": "code",
   "execution_count": 11,
   "metadata": {},
   "outputs": [],
   "source": [
    "second = np.matmul(b,a)                            # #finding multiplication predictors and target"
   ]
  },
  {
   "cell_type": "code",
   "execution_count": 12,
   "metadata": {},
   "outputs": [
    {
     "data": {
      "text/plain": [
       "array([9.35880000e+03, 2.56140409e+07, 8.68718800e+05, 1.55003940e+06])"
      ]
     },
     "execution_count": 12,
     "metadata": {},
     "output_type": "execute_result"
    }
   ],
   "source": [
    "second"
   ]
  },
  {
   "cell_type": "code",
   "execution_count": 13,
   "metadata": {},
   "outputs": [],
   "source": [
    "#final b vector formula\n",
    "final = np.matmul(second,firstinv)                    "
   ]
  },
  {
   "cell_type": "code",
   "execution_count": 14,
   "metadata": {},
   "outputs": [
    {
     "data": {
      "text/plain": [
       "array([ 4.46511571e+01, -5.51769938e-03, -3.10427759e-02, -8.02655853e-03])"
      ]
     },
     "execution_count": 14,
     "metadata": {},
     "output_type": "execute_result"
    }
   ],
   "source": [
    "#parameters for x and y\n",
    "final"
   ]
  },
  {
   "cell_type": "code",
   "execution_count": 15,
   "metadata": {},
   "outputs": [],
   "source": [
    "model = stm.OLS(target,predictors).fit()         #finding all the parameters using fuction "
   ]
  },
  {
   "cell_type": "code",
   "execution_count": 16,
   "metadata": {
    "scrolled": true
   },
   "outputs": [
    {
     "data": {
      "text/plain": [
       "const           44.651157\n",
       "Weight          -0.005518\n",
       "Horsepower      -0.031043\n",
       "Displacement    -0.008027\n",
       "dtype: float64"
      ]
     },
     "execution_count": 16,
     "metadata": {},
     "output_type": "execute_result"
    }
   ],
   "source": [
    "model.params"
   ]
  },
  {
   "cell_type": "markdown",
   "metadata": {},
   "source": [
    "We can say that the parameters found from scratch and the parameters found using the function is same."
   ]
  },
  {
   "cell_type": "code",
   "execution_count": 13,
   "metadata": {},
   "outputs": [],
   "source": [
    "#function to predict MPG \n",
    "def predict(a,b,c):\n",
    "    y = 4.46511571e+01 - 5.51769938e-03 * a - 3.10427759e-02 * b - 8.02655853e-03 * c \n",
    "    return y\n",
    "    "
   ]
  },
  {
   "cell_type": "code",
   "execution_count": 147,
   "metadata": {
    "scrolled": true
   },
   "outputs": [
    {
     "data": {
      "text/html": [
       "<div>\n",
       "<style scoped>\n",
       "    .dataframe tbody tr th:only-of-type {\n",
       "        vertical-align: middle;\n",
       "    }\n",
       "\n",
       "    .dataframe tbody tr th {\n",
       "        vertical-align: top;\n",
       "    }\n",
       "\n",
       "    .dataframe thead th {\n",
       "        text-align: right;\n",
       "    }\n",
       "</style>\n",
       "<table border=\"1\" class=\"dataframe\">\n",
       "  <thead>\n",
       "    <tr style=\"text-align: right;\">\n",
       "      <th></th>\n",
       "      <th>const</th>\n",
       "      <th>Weight</th>\n",
       "      <th>Horsepower</th>\n",
       "      <th>Displacement</th>\n",
       "    </tr>\n",
       "  </thead>\n",
       "  <tbody>\n",
       "    <tr>\n",
       "      <th>0</th>\n",
       "      <td>1.0</td>\n",
       "      <td>3504</td>\n",
       "      <td>130</td>\n",
       "      <td>307.0</td>\n",
       "    </tr>\n",
       "    <tr>\n",
       "      <th>1</th>\n",
       "      <td>1.0</td>\n",
       "      <td>3693</td>\n",
       "      <td>165</td>\n",
       "      <td>350.0</td>\n",
       "    </tr>\n",
       "    <tr>\n",
       "      <th>2</th>\n",
       "      <td>1.0</td>\n",
       "      <td>3436</td>\n",
       "      <td>150</td>\n",
       "      <td>318.0</td>\n",
       "    </tr>\n",
       "    <tr>\n",
       "      <th>3</th>\n",
       "      <td>1.0</td>\n",
       "      <td>3433</td>\n",
       "      <td>150</td>\n",
       "      <td>304.0</td>\n",
       "    </tr>\n",
       "    <tr>\n",
       "      <th>4</th>\n",
       "      <td>1.0</td>\n",
       "      <td>3449</td>\n",
       "      <td>140</td>\n",
       "      <td>302.0</td>\n",
       "    </tr>\n",
       "    <tr>\n",
       "      <th>...</th>\n",
       "      <td>...</td>\n",
       "      <td>...</td>\n",
       "      <td>...</td>\n",
       "      <td>...</td>\n",
       "    </tr>\n",
       "    <tr>\n",
       "      <th>401</th>\n",
       "      <td>1.0</td>\n",
       "      <td>2790</td>\n",
       "      <td>86</td>\n",
       "      <td>140.0</td>\n",
       "    </tr>\n",
       "    <tr>\n",
       "      <th>402</th>\n",
       "      <td>1.0</td>\n",
       "      <td>2130</td>\n",
       "      <td>52</td>\n",
       "      <td>97.0</td>\n",
       "    </tr>\n",
       "    <tr>\n",
       "      <th>403</th>\n",
       "      <td>1.0</td>\n",
       "      <td>2295</td>\n",
       "      <td>84</td>\n",
       "      <td>135.0</td>\n",
       "    </tr>\n",
       "    <tr>\n",
       "      <th>404</th>\n",
       "      <td>1.0</td>\n",
       "      <td>2625</td>\n",
       "      <td>79</td>\n",
       "      <td>120.0</td>\n",
       "    </tr>\n",
       "    <tr>\n",
       "      <th>405</th>\n",
       "      <td>1.0</td>\n",
       "      <td>2720</td>\n",
       "      <td>82</td>\n",
       "      <td>119.0</td>\n",
       "    </tr>\n",
       "  </tbody>\n",
       "</table>\n",
       "<p>398 rows × 4 columns</p>\n",
       "</div>"
      ],
      "text/plain": [
       "     const  Weight  Horsepower  Displacement\n",
       "0      1.0    3504         130         307.0\n",
       "1      1.0    3693         165         350.0\n",
       "2      1.0    3436         150         318.0\n",
       "3      1.0    3433         150         304.0\n",
       "4      1.0    3449         140         302.0\n",
       "..     ...     ...         ...           ...\n",
       "401    1.0    2790          86         140.0\n",
       "402    1.0    2130          52          97.0\n",
       "403    1.0    2295          84         135.0\n",
       "404    1.0    2625          79         120.0\n",
       "405    1.0    2720          82         119.0\n",
       "\n",
       "[398 rows x 4 columns]"
      ]
     },
     "execution_count": 147,
     "metadata": {},
     "output_type": "execute_result"
    }
   ],
   "source": [
    "predictors"
   ]
  },
  {
   "cell_type": "code",
   "execution_count": 16,
   "metadata": {
    "scrolled": true
   },
   "outputs": [],
   "source": [
    "predictors['actual'] = target"
   ]
  },
  {
   "cell_type": "code",
   "execution_count": 14,
   "metadata": {
    "scrolled": true
   },
   "outputs": [
    {
     "data": {
      "text/plain": [
       "0      18.817424\n",
       "1      16.342940\n",
       "2      18.483480\n",
       "3      18.612405\n",
       "4      18.850603\n",
       "         ...    \n",
       "401    25.463379\n",
       "402    30.505657\n",
       "403    28.296858\n",
       "404    26.751630\n",
       "405    26.142347\n",
       "Length: 398, dtype: float64"
      ]
     },
     "execution_count": 14,
     "metadata": {},
     "output_type": "execute_result"
    }
   ],
   "source": [
    "#predicting the MPG values using predictors\n",
    "final = predict(cars2.Weight,cars2.Horsepower,cars2.Displacement)\n",
    "final"
   ]
  },
  {
   "cell_type": "code",
   "execution_count": 17,
   "metadata": {},
   "outputs": [],
   "source": [
    "predictors['predicted_MPG'] = final"
   ]
  },
  {
   "cell_type": "code",
   "execution_count": 18,
   "metadata": {},
   "outputs": [
    {
     "data": {
      "text/html": [
       "<div>\n",
       "<style scoped>\n",
       "    .dataframe tbody tr th:only-of-type {\n",
       "        vertical-align: middle;\n",
       "    }\n",
       "\n",
       "    .dataframe tbody tr th {\n",
       "        vertical-align: top;\n",
       "    }\n",
       "\n",
       "    .dataframe thead th {\n",
       "        text-align: right;\n",
       "    }\n",
       "</style>\n",
       "<table border=\"1\" class=\"dataframe\">\n",
       "  <thead>\n",
       "    <tr style=\"text-align: right;\">\n",
       "      <th></th>\n",
       "      <th>const</th>\n",
       "      <th>Weight</th>\n",
       "      <th>Horsepower</th>\n",
       "      <th>Displacement</th>\n",
       "      <th>actual</th>\n",
       "      <th>predicted_MPG</th>\n",
       "    </tr>\n",
       "  </thead>\n",
       "  <tbody>\n",
       "    <tr>\n",
       "      <th>0</th>\n",
       "      <td>1.0</td>\n",
       "      <td>3504</td>\n",
       "      <td>130</td>\n",
       "      <td>307.0</td>\n",
       "      <td>18.0</td>\n",
       "      <td>18.817424</td>\n",
       "    </tr>\n",
       "    <tr>\n",
       "      <th>1</th>\n",
       "      <td>1.0</td>\n",
       "      <td>3693</td>\n",
       "      <td>165</td>\n",
       "      <td>350.0</td>\n",
       "      <td>15.0</td>\n",
       "      <td>16.342940</td>\n",
       "    </tr>\n",
       "    <tr>\n",
       "      <th>2</th>\n",
       "      <td>1.0</td>\n",
       "      <td>3436</td>\n",
       "      <td>150</td>\n",
       "      <td>318.0</td>\n",
       "      <td>18.0</td>\n",
       "      <td>18.483480</td>\n",
       "    </tr>\n",
       "    <tr>\n",
       "      <th>3</th>\n",
       "      <td>1.0</td>\n",
       "      <td>3433</td>\n",
       "      <td>150</td>\n",
       "      <td>304.0</td>\n",
       "      <td>16.0</td>\n",
       "      <td>18.612405</td>\n",
       "    </tr>\n",
       "    <tr>\n",
       "      <th>4</th>\n",
       "      <td>1.0</td>\n",
       "      <td>3449</td>\n",
       "      <td>140</td>\n",
       "      <td>302.0</td>\n",
       "      <td>17.0</td>\n",
       "      <td>18.850603</td>\n",
       "    </tr>\n",
       "    <tr>\n",
       "      <th>...</th>\n",
       "      <td>...</td>\n",
       "      <td>...</td>\n",
       "      <td>...</td>\n",
       "      <td>...</td>\n",
       "      <td>...</td>\n",
       "      <td>...</td>\n",
       "    </tr>\n",
       "    <tr>\n",
       "      <th>401</th>\n",
       "      <td>1.0</td>\n",
       "      <td>2790</td>\n",
       "      <td>86</td>\n",
       "      <td>140.0</td>\n",
       "      <td>27.0</td>\n",
       "      <td>25.463379</td>\n",
       "    </tr>\n",
       "    <tr>\n",
       "      <th>402</th>\n",
       "      <td>1.0</td>\n",
       "      <td>2130</td>\n",
       "      <td>52</td>\n",
       "      <td>97.0</td>\n",
       "      <td>44.0</td>\n",
       "      <td>30.505657</td>\n",
       "    </tr>\n",
       "    <tr>\n",
       "      <th>403</th>\n",
       "      <td>1.0</td>\n",
       "      <td>2295</td>\n",
       "      <td>84</td>\n",
       "      <td>135.0</td>\n",
       "      <td>32.0</td>\n",
       "      <td>28.296858</td>\n",
       "    </tr>\n",
       "    <tr>\n",
       "      <th>404</th>\n",
       "      <td>1.0</td>\n",
       "      <td>2625</td>\n",
       "      <td>79</td>\n",
       "      <td>120.0</td>\n",
       "      <td>28.0</td>\n",
       "      <td>26.751630</td>\n",
       "    </tr>\n",
       "    <tr>\n",
       "      <th>405</th>\n",
       "      <td>1.0</td>\n",
       "      <td>2720</td>\n",
       "      <td>82</td>\n",
       "      <td>119.0</td>\n",
       "      <td>31.0</td>\n",
       "      <td>26.142347</td>\n",
       "    </tr>\n",
       "  </tbody>\n",
       "</table>\n",
       "<p>398 rows × 6 columns</p>\n",
       "</div>"
      ],
      "text/plain": [
       "     const  Weight  Horsepower  Displacement  actual  predicted_MPG\n",
       "0      1.0    3504         130         307.0    18.0      18.817424\n",
       "1      1.0    3693         165         350.0    15.0      16.342940\n",
       "2      1.0    3436         150         318.0    18.0      18.483480\n",
       "3      1.0    3433         150         304.0    16.0      18.612405\n",
       "4      1.0    3449         140         302.0    17.0      18.850603\n",
       "..     ...     ...         ...           ...     ...            ...\n",
       "401    1.0    2790          86         140.0    27.0      25.463379\n",
       "402    1.0    2130          52          97.0    44.0      30.505657\n",
       "403    1.0    2295          84         135.0    32.0      28.296858\n",
       "404    1.0    2625          79         120.0    28.0      26.751630\n",
       "405    1.0    2720          82         119.0    31.0      26.142347\n",
       "\n",
       "[398 rows x 6 columns]"
      ]
     },
     "execution_count": 18,
     "metadata": {},
     "output_type": "execute_result"
    }
   ],
   "source": [
    "#compare the predicted and actual values of MPG\n",
    "predictors"
   ]
  },
  {
   "cell_type": "code",
   "execution_count": 20,
   "metadata": {},
   "outputs": [
    {
     "name": "stdout",
     "output_type": "stream",
     "text": [
      "RMSE error : 18.037721140526408\n"
     ]
    }
   ],
   "source": [
    "error = np.mean((predictors['actual'] - predictors['predicted_MPG'])**2)\n",
    "print(\"RMSE error :\",error)"
   ]
  }
 ],
 "metadata": {
  "kernelspec": {
   "display_name": "Python 3",
   "language": "python",
   "name": "python3"
  },
  "language_info": {
   "codemirror_mode": {
    "name": "ipython",
    "version": 3
   },
   "file_extension": ".py",
   "mimetype": "text/x-python",
   "name": "python",
   "nbconvert_exporter": "python",
   "pygments_lexer": "ipython3",
   "version": "3.8.5"
  }
 },
 "nbformat": 4,
 "nbformat_minor": 4
}
