{
 "cells": [
  {
   "cell_type": "markdown",
   "metadata": {},
   "source": [
    "### Kfold cross validation algorithm from scratch"
   ]
  },
  {
   "cell_type": "markdown",
   "metadata": {},
   "source": [
    "### Problem Statement:\n",
    "\n",
    "Create a Kfold cross validation algorithm for both Regression and classification problem from scratch\n",
    "\n",
    "for regression, dataset to be used : 'cars.csv'\n",
    "\n",
    "for classification , dataset to be used : 'iris.csv'"
   ]
  },
  {
   "cell_type": "code",
   "execution_count": 1,
   "metadata": {},
   "outputs": [],
   "source": [
    "#import libraries\n",
    "import os\n",
    "import numpy as np\n",
    "import pandas as pd\n",
    "from sklearn.model_selection import train_test_split\n",
    "from sklearn.metrics import confusion_matrix\n",
    "from sklearn.neighbors import KNeighborsClassifier\n",
    "from sklearn.metrics import mean_squared_error\n",
    "from sklearn.linear_model import LinearRegression"
   ]
  },
  {
   "cell_type": "markdown",
   "metadata": {},
   "source": [
    "## K fold cross validation for Regression"
   ]
  },
  {
   "cell_type": "code",
   "execution_count": 2,
   "metadata": {},
   "outputs": [],
   "source": [
    "# Libraries\n",
    "os.chdir(r'C:\\Users\\shameel\\Desktop\\Praxis')\n",
    "cars = pd.read_csv(\"cars.csv\")          # reading the file\n",
    "predictors = cars[['Weight','Horsepower','Displacement','Acceleration']]      #assigning predictors\n",
    "target = cars[\"MPG\"]                 #assigning target"
   ]
  },
  {
   "cell_type": "code",
   "execution_count": 3,
   "metadata": {},
   "outputs": [],
   "source": [
    "# dividing the data\n",
    "xtrain = cars.iloc[0:406,3:7]\n",
    "ytrain = cars.iloc[0:406,1]"
   ]
  },
  {
   "cell_type": "code",
   "execution_count": 9,
   "metadata": {},
   "outputs": [
    {
     "name": "stdout",
     "output_type": "stream",
     "text": [
      "enter the number of k5\n",
      "The rmse score for final regression model 5.032670574927291\n"
     ]
    }
   ],
   "source": [
    "valid = []\n",
    "test = []\n",
    "acc = []\n",
    "\n",
    "k = int(input(\"enter the number of k\"))\n",
    "n = int(len(xtrain)/k)                           # the number of value in each validation file\n",
    "l = n\n",
    "for i in range (0,len(xtrain),n):\n",
    "    valid = xtrain.iloc[i:l]                     #assigning the validationa value for predictors\n",
    "    yvalid = ytrain.iloc[i:l]                    #assigning the validationa value for target\n",
    "    test1 = xtrain.iloc[0:i]\n",
    "    test2 = xtrain.iloc[l:]\n",
    "    ytest1 = ytrain.iloc[0:i]\n",
    "    ytest2 = ytrain.iloc[l:]\n",
    "    yftest = pd.concat([ytest1,ytest2],axis=0)  #concating the values other than valid from the target\n",
    "    xftest = pd.concat([test1,test2],axis=0)    #concating the values other than valid from the predictors\n",
    "    l = l+n\n",
    "    acc = []\n",
    "    \n",
    "    \n",
    "    reg=LinearRegression()                     #defing teh linear regression model\n",
    "    reg.fit(xftest,yftest)                     # fitting the model in the train \n",
    "    y_pred=reg.predict(valid)                  #predicting the target values for all valid\n",
    "    rmse=np.sqrt(mean_squared_error(yvalid, y_pred))  #calculating all Root Mean Square Error\n",
    "    acc.append(rmse)\n",
    "    \n",
    "print('The rmse score for final regression model', np.mean(rmse))   #calculating mean of all the calculated rmse error \n"
   ]
  },
  {
   "cell_type": "markdown",
   "metadata": {},
   "source": [
    "### Kfold cross validation for Classification"
   ]
  },
  {
   "cell_type": "code",
   "execution_count": 15,
   "metadata": {},
   "outputs": [
    {
     "data": {
      "text/html": [
       "<div>\n",
       "<style scoped>\n",
       "    .dataframe tbody tr th:only-of-type {\n",
       "        vertical-align: middle;\n",
       "    }\n",
       "\n",
       "    .dataframe tbody tr th {\n",
       "        vertical-align: top;\n",
       "    }\n",
       "\n",
       "    .dataframe thead th {\n",
       "        text-align: right;\n",
       "    }\n",
       "</style>\n",
       "<table border=\"1\" class=\"dataframe\">\n",
       "  <thead>\n",
       "    <tr style=\"text-align: right;\">\n",
       "      <th></th>\n",
       "      <th>sepal_length</th>\n",
       "      <th>sepal_width</th>\n",
       "      <th>petal_length</th>\n",
       "      <th>petal_width</th>\n",
       "      <th>species</th>\n",
       "    </tr>\n",
       "  </thead>\n",
       "  <tbody>\n",
       "    <tr>\n",
       "      <th>0</th>\n",
       "      <td>5.1</td>\n",
       "      <td>3.5</td>\n",
       "      <td>1.4</td>\n",
       "      <td>0.2</td>\n",
       "      <td>Iris-setosa</td>\n",
       "    </tr>\n",
       "    <tr>\n",
       "      <th>1</th>\n",
       "      <td>4.9</td>\n",
       "      <td>3.0</td>\n",
       "      <td>1.4</td>\n",
       "      <td>0.2</td>\n",
       "      <td>Iris-setosa</td>\n",
       "    </tr>\n",
       "    <tr>\n",
       "      <th>2</th>\n",
       "      <td>4.7</td>\n",
       "      <td>3.2</td>\n",
       "      <td>1.3</td>\n",
       "      <td>0.2</td>\n",
       "      <td>Iris-setosa</td>\n",
       "    </tr>\n",
       "    <tr>\n",
       "      <th>3</th>\n",
       "      <td>4.6</td>\n",
       "      <td>3.1</td>\n",
       "      <td>1.5</td>\n",
       "      <td>0.2</td>\n",
       "      <td>Iris-setosa</td>\n",
       "    </tr>\n",
       "    <tr>\n",
       "      <th>4</th>\n",
       "      <td>5.0</td>\n",
       "      <td>3.6</td>\n",
       "      <td>1.4</td>\n",
       "      <td>0.2</td>\n",
       "      <td>Iris-setosa</td>\n",
       "    </tr>\n",
       "  </tbody>\n",
       "</table>\n",
       "</div>"
      ],
      "text/plain": [
       "   sepal_length  sepal_width  petal_length  petal_width      species\n",
       "0           5.1          3.5           1.4          0.2  Iris-setosa\n",
       "1           4.9          3.0           1.4          0.2  Iris-setosa\n",
       "2           4.7          3.2           1.3          0.2  Iris-setosa\n",
       "3           4.6          3.1           1.5          0.2  Iris-setosa\n",
       "4           5.0          3.6           1.4          0.2  Iris-setosa"
      ]
     },
     "execution_count": 15,
     "metadata": {},
     "output_type": "execute_result"
    }
   ],
   "source": [
    "# Libraries\n",
    "os.chdir(r'C:\\Users\\shameel\\Desktop\\Praxis')\n",
    "iris = pd.read_csv(\"IRIS.csv\")       # reading the file\n",
    "#shuffle = iris.sample()\n",
    "iris.head()"
   ]
  },
  {
   "cell_type": "code",
   "execution_count": 16,
   "metadata": {},
   "outputs": [],
   "source": [
    "predictors = iris[['sepal_length','sepal_width','petal_length','petal_width']] #assigning predictors\n",
    "target = iris[\"species\"]                  #assigning target"
   ]
  },
  {
   "cell_type": "code",
   "execution_count": 17,
   "metadata": {},
   "outputs": [],
   "source": [
    "# dividing the data\n",
    "xtrain = predictors.iloc[0:150]\n",
    "ytrain = target.iloc[0:150]"
   ]
  },
  {
   "cell_type": "code",
   "execution_count": 19,
   "metadata": {},
   "outputs": [
    {
     "name": "stdout",
     "output_type": "stream",
     "text": [
      "enter the number of k5\n",
      "The accuracy for final calssification model 0.8\n"
     ]
    }
   ],
   "source": [
    "valid = []\n",
    "test = []\n",
    "acc = []\n",
    "\n",
    "k = int(input(\"enter the number of k\"))\n",
    "n = int(len(xtrain)/k)                              # the number of value in each validation file\n",
    "l = n\n",
    "for i in range (0,len(xtrain),n):\n",
    "    valid = xtrain.iloc[i:l]                        #assigning the validation value for predictors\n",
    "    yvalid = ytrain.iloc[i:l]                       #assigning the validationa value for target\n",
    "    test1 = xtrain.iloc[0:i]\n",
    "    test2 = xtrain.iloc[l:]\n",
    "    ytest1 = ytrain.iloc[0:i]\n",
    "    ytest2 = ytrain.iloc[l:]\n",
    "    yftest = pd.concat([ytest1,ytest2],axis=0)     #concating the values other than valid from the target\n",
    "    xftest = pd.concat([test1,test2],axis=0)       #concating the values other than valid from the predictors\n",
    "    l = l+n\n",
    "    acc = []\n",
    "           \n",
    "    knn=KNeighborsClassifier(n_neighbors=5)        #defing teh KNN model   \n",
    "    knn.fit(xftest,yftest)                         #fitting each train sets into knn\n",
    "    y_pred=knn.predict(valid)                      #predicting the target values for all valid\n",
    "    cmatrix=confusion_matrix(yvalid,y_pred)       #creating confusion matrix between yvalid and the predicted value\n",
    "    sum = 0\n",
    "    for i in range(len(cmatrix)):\n",
    "        sum = sum+cmatrix[i][i]                   #adding up the diagonal elemnts\n",
    "    accuracy = sum/len(y_pred)                    #finding accuracy\n",
    "    acc.append(accuracy)\n",
    "    \n",
    "print('The accuracy for final calssification model', np.mean(acc))   #mean of alll accuracy found\n",
    "    \n"
   ]
  }
 ],
 "metadata": {
  "kernelspec": {
   "display_name": "Python 3",
   "language": "python",
   "name": "python3"
  },
  "language_info": {
   "codemirror_mode": {
    "name": "ipython",
    "version": 3
   },
   "file_extension": ".py",
   "mimetype": "text/x-python",
   "name": "python",
   "nbconvert_exporter": "python",
   "pygments_lexer": "ipython3",
   "version": "3.8.5"
  }
 },
 "nbformat": 4,
 "nbformat_minor": 4
}
